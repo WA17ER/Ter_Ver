{
 "cells": [
  {
   "cell_type": "code",
   "execution_count": 60,
   "id": "e3237b05",
   "metadata": {},
   "outputs": [],
   "source": [
    "import numpy as np\n",
    "from math import sqrt\n",
    "import matplotlib.pyplot as plt\n",
    "from scipy import stats"
   ]
  },
  {
   "cell_type": "markdown",
   "id": "2d455645",
   "metadata": {},
   "source": [
    "Даны значения величины заработной платы заемщиков банка (salary) и значения их поведенческого кредитного скоринга (scoring):\n",
    "\n",
    "salary = [35, 45, 190, 200, 40, 70, 54, 150, 120, 110]\n",
    "scoring = [401, 574, 874, 919, 459, 739, 653, 902, 746, 832]\n",
    "Возьмём в качестве признака значение salary, а в качестве целевой переменной - scoring.\n",
    "\n",
    "Найдите коэффициенты линейной регрессии с помощью формул для парной регрессии, а затем с помощью метода наименьших квадратов.\n",
    "Постройте scatter plot по данным и отметьте на нём прямую линейной регрессии, полученную в п. 1.\n",
    "Посчитайте коэффициент детерминации, среднюю ошибку аппроксимации.\n",
    "Оцените построенное уравнение регрессии с помощью F-критерия Фишера.\n",
    "Оцените значимость получившихся параметров уравнения регрессии и постройте для них доверительные интервалы с помощью t-статистики Стьюдента."
   ]
  },
  {
   "cell_type": "code",
   "execution_count": 69,
   "id": "6b9873b5",
   "metadata": {},
   "outputs": [
    {
     "name": "stdout",
     "output_type": "stream",
     "text": [
      "[ True  True False False  True  True  True False  True  True]\n",
      "Результат фор-лы для парной регресси [535.89621821 562.10160703 942.07974498 968.2851338  548.99891262\n",
      " 627.61507909 585.68645697 837.25818968 758.64202321 732.43663439]\n",
      " И методом наименьших квадратов [535.89621821 562.10160703 942.07974498 968.2851338  548.99891262\n",
      " 627.61507909 585.68645697 837.25818968 758.64202321 732.43663439]\n"
     ]
    },
    {
     "data": {
      "image/png": "[encoded data removed]",
      "text/plain": [
       "<Figure size 432x288 with 1 Axes>"
      ]
     },
     "metadata": {
      "needs_background": "light"
     },
     "output_type": "display_data"
    }
   ],
   "source": [
    "salary = np.array([35, 45, 190, 200, 40, 70, 54, 150, 120, 110])\n",
    "scoring = np.array([401, 574, 874, 919, 459, 739, 653, 902, 746, 832])\n",
    "\n",
    "b_1 = ((salary * scoring).mean()-salary.mean()*scoring.mean())/((salary**2).mean() - salary.mean()**2)\n",
    "b_0 = scoring.mean()-(b_1 * salary.mean())\n",
    "pred = b_0 + b_1*salary\n",
    "A_0 = np.vstack([salary, np.ones(len(salary))]).T\n",
    "m, c = np.linalg.lstsq(A_0, scoring, rcond=None)[0]\n",
    "pred_sqr = m*salary + c\n",
    "print(pred == pred_sqr)\n",
    "print(f\"Результат фор-лы для парной регресси {pred}\\n И методом наименьших квадратов {pred_sqr}\")\n",
    "plt.scatter(salary, scoring, label='scoring', color=\"blue\")\n",
    "plt.plot(salary, pred, label=\"метод парной регрессии\", color=\"red\")\n",
    "plt.legend()\n",
    "plt.show()"
   ]
  },
  {
   "cell_type": "code",
   "execution_count": 70,
   "id": "0cc43a04",
   "metadata": {},
   "outputs": [
    {
     "name": "stdout",
     "output_type": "stream",
     "text": [
      "Ошибка апроксимации0.11469251843561708,  коэфициент детерминации0.7876386635293678\n"
     ]
    }
   ],
   "source": [
    "r_2 = pred.var()/scoring.var()\n",
    "aprox_coef = np.abs((scoring - pred_sqr)/scoring).mean()\n",
    "print(f\"Ошибка апроксимации{aprox_coef},  коэфициент детерминации{r_2}\")"
   ]
  },
  {
   "cell_type": "code",
   "execution_count": 50,
   "id": "6e0cec80",
   "metadata": {},
   "outputs": [
    {
     "name": "stdout",
     "output_type": "stream",
     "text": [
      "С вероятнгстью 95.0% параметр значим\n"
     ]
    }
   ],
   "source": [
    "T_ficher = (r_2/(1-r_2))*((len(pred) - 1 -1)/1)\n",
    "alpha = 0.05\n",
    "k_1 = 1\n",
    "k_2 = len(pred) - 2\n",
    "T_crit = stats.f.ppf(1-alpha, k_1, k_2)\n",
    "if T_ficher > T_crit:\n",
    "    print(f\"С вероятнгстью {(1-alpha)*100}% параметр значим\")\n",
    "else:\n",
    "    print(\"Параметр не значим\")"
   ]
  },
  {
   "cell_type": "code",
   "execution_count": 51,
   "id": "5a11348a",
   "metadata": {},
   "outputs": [
    {
     "name": "stdout",
     "output_type": "stream",
     "text": [
      "Доверительный интервал будет равен отрезку от 1.5322333820037959 до 3.708844382801734 \n",
      "Параметр b_1 статистически значим\n"
     ]
    }
   ],
   "source": [
    "T_styudent = 2.2622\n",
    "U_slope = (((scoring-pred)**2).sum())/(len(pred)-2)\n",
    "D_slope = ((salary -salary.mean())**2).sum()\n",
    "S_slope =np.sqrt(U_slope / D_slope)\n",
    "S_slope\n",
    "t_1 = b_1/S_slope\n",
    "print(F\"Доверительный интервал будет равен отрезку от {b_1 - T_styudent*S_slope} до {b_1 + T_styudent*S_slope} \")\n",
    "if t_1 > b_1 + T_styudent*S_slope or t_1 < b_1 - T_styudent*S_slope:\n",
    "    print(\"Параметр b_1 статистически значим\")\n",
    "else:\n",
    "    print(\"параметр не значим\")"
   ]
  },
  {
   "cell_type": "code",
   "execution_count": 59,
   "id": "05d0e39a",
   "metadata": {},
   "outputs": [
    {
     "name": "stdout",
     "output_type": "stream",
     "text": [
      "923.2867217622289\n",
      "Доверительный интервал будет равен отрезку от 443.08905182396063 до 445.2656628247586 \n",
      " Параметр b_0 статистически значим \n"
     ]
    }
   ],
   "source": [
    "t_0 = b_0/S_slope\n",
    "print(t_0)\n",
    "print(F\"Доверительный интервал будет равен отрезку от {b_0 - T_styudent*S_slope} до {b_0 + T_styudent*S_slope} \")\n",
    "if t_0 > b_0 + T_styudent*S_slope or t_0 < b_0 - T_styudent*S_slope:\n",
    "    print(\" Параметр b_0 статистически значим \")\n",
    "else:\n",
    "    print(\"параметр не значим\")"
   ]
  },
  {
   "cell_type": "markdown",
   "id": "c528baf7",
   "metadata": {},
   "source": [
    "В каких случаях для вычисления доверительных интервалов и проверки статистических гипотез используется таблица значений функции Лапласа, а в каких - таблица квантилей распределения Стьюдента?"
   ]
  },
  {
   "cell_type": "code",
   "execution_count": 2,
   "id": "0128309c",
   "metadata": {},
   "outputs": [
    {
     "name": "stdout",
     "output_type": "stream",
     "text": [
      "В случае если известна дисперсия генеральной совокупности то используем значение ф-ии лапласа , в ином случае пользуемся ко-ом Стьюдента\n"
     ]
    }
   ],
   "source": [
    "print('В случае если известна дисперсия генеральной совокупности то используем значение ф-ии лапласа , в ином случае пользуемся ко-ом Стьюдента')"
   ]
  }
 ],
 "metadata": {
  "kernelspec": {
   "display_name": "Python 3 (ipykernel)",
   "language": "python",
   "name": "python3"
  },
  "language_info": {
   "codemirror_mode": {
    "name": "ipython",
    "version": 3
   },
   "file_extension": ".py",
   "mimetype": "text/x-python",
   "name": "python",
   "nbconvert_exporter": "python",
   "pygments_lexer": "ipython3",
   "version": "3.9.7"
  }
 },
 "nbformat": 4,
 "nbformat_minor": 5
}
