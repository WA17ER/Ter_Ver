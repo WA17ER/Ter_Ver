{
 "cells": [
  {
   "cell_type": "markdown",
   "id": "19c60045",
   "metadata": {},
   "source": [
    "Провести дисперсионный анализ для определения того, есть ли различия среднего роста среди взрослых футболистов, хоккеистов и штангистов. Даны значения роста в трех группах случайно выбранных спортсменов:\n",
    "\n",
    "football_players = [173, 175, 180, 178, 177, 185, 183, 182]\n",
    "hockey_players = [177, 179, 180, 188, 177, 172, 171, 184, 180]\n",
    "lifters = [172, 173, 169, 177, 166, 180, 178, 177, 172, 166, 170]"
   ]
  },
  {
   "cell_type": "code",
   "execution_count": 17,
   "id": "84ded11b",
   "metadata": {},
   "outputs": [],
   "source": [
    "import numpy as np\n",
    "from scipy import stats"
   ]
  },
  {
   "cell_type": "code",
   "execution_count": 18,
   "id": "e2bd725a",
   "metadata": {},
   "outputs": [
    {
     "name": "stdout",
     "output_type": "stream",
     "text": [
      "8 9 11 28 3\n",
      "179.125 178.66666666666666 172.72727272727272 176.46428571428572\n",
      "830.9642857142854\n"
     ]
    }
   ],
   "source": [
    "football_players = np.array([173, 175, 180, 178, 177, 185, 183, 182])\n",
    "hockey_players = np.array([177, 179, 180, 188, 177, 172, 171, 184, 180])\n",
    "lifters = np.array([172, 173, 169, 177, 166, 180, 178, 177, 172, 166, 170])\n",
    "total = np.concatenate([football_players, hockey_players, lifters])\n",
    "k=3\n",
    "n_1, n_2, n_3, n_total = len(football_players), len(hockey_players), len(lifters), len(total)\n",
    "print(n_1, n_2, n_3, n_total, k)\n",
    "total_mean = sum([sum(football_players),sum(hockey_players),sum(lifters)])/n_total\n",
    "foot_mean, hock_mean , lift_mean  =football_players.mean(), hockey_players.mean(), lifters.mean()\n",
    "print(foot_mean, hock_mean , lift_mean,total_mean)\n",
    "print(((total-total_mean)**2).sum())"
   ]
  },
  {
   "cell_type": "code",
   "execution_count": 19,
   "id": "95906b81",
   "metadata": {},
   "outputs": [
    {
     "name": "stdout",
     "output_type": "stream",
     "text": [
      "830.9642857142854 830.964285714286\n"
     ]
    },
    {
     "data": {
      "text/plain": [
       "(5.500053450812598, 0.7127255070172547)"
      ]
     },
     "execution_count": 19,
     "metadata": {},
     "output_type": "execute_result"
    }
   ],
   "source": [
    "S2 = ((total-total_mean)**2).sum()\n",
    "S2F = (n_1 * (foot_mean - total_mean) ** 2) + (n_2 * (hock_mean - total_mean) ** 2) + (n_3 * (lift_mean - total_mean) ** 2)\n",
    "S2res = ((football_players - foot_mean) ** 2).sum() + ((hockey_players - hock_mean) ** 2).sum() +\\\n",
    "((lifters - lift_mean) ** 2).sum()\n",
    "print(S2, S2F+ S2res)\n",
    "k1 = k - 1\n",
    "k2 = n_total - k\n",
    "σ2F = S2F / k1\n",
    "σ2res = S2res / k2\n",
    "\n",
    "\n",
    "alpha=0.5\n",
    "T = σ2F/σ2res\n",
    "F_crit = stats.f.ppf(1 - alpha, k1, k2)\n",
    "T, F_crit\n"
   ]
  },
  {
   "cell_type": "code",
   "execution_count": 20,
   "id": "5b1edb4e",
   "metadata": {},
   "outputs": [
    {
     "name": "stdout",
     "output_type": "stream",
     "text": [
      "отличия статистически значимы, и есть различия в средних значениях\n"
     ]
    }
   ],
   "source": [
    "if T > F_crit:\n",
    "    print(\"отличия статистически значимы, и есть различия в средних значениях\")\n",
    "else:\n",
    "    print('отличия статистически не значимы , различий нет')"
   ]
  },
  {
   "cell_type": "code",
   "execution_count": null,
   "id": "7b5bbe13",
   "metadata": {},
   "outputs": [],
   "source": []
  }
 ],
 "metadata": {
  "kernelspec": {
   "display_name": "Python 3 (ipykernel)",
   "language": "python",
   "name": "python3"
  },
  "language_info": {
   "codemirror_mode": {
    "name": "ipython",
    "version": 3
   },
   "file_extension": ".py",
   "mimetype": "text/x-python",
   "name": "python",
   "nbconvert_exporter": "python",
   "pygments_lexer": "ipython3",
   "version": "3.9.7"
  }
 },
 "nbformat": 4,
 "nbformat_minor": 5
}
