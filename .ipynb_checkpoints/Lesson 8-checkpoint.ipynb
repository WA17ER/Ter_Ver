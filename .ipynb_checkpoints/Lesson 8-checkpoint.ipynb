{
 "cells": [
  {
   "cell_type": "markdown",
   "id": "e0c42d6b",
   "metadata": {},
   "source": [
    "Провести дисперсионный анализ для определения того, есть ли различия среднего роста среди взрослых футболистов, хоккеистов и штангистов. Даны значения роста в трех группах случайно выбранных спортсменов:\n",
    "\n",
    "football_players = [173, 175, 180, 178, 177, 185, 183, 182]\n",
    "hockey_players = [177, 179, 180, 188, 177, 172, 171, 184, 180]\n",
    "lifters = [172, 173, 169, 177, 166, 180, 178, 177, 172, 166, 170]"
   ]
  },
  {
   "cell_type": "code",
   "execution_count": 2,
   "id": "07c77895",
   "metadata": {},
   "outputs": [],
   "source": [
    "import numpy as np\n",
    "import pandas as pd"
   ]
  },
  {
   "cell_type": "code",
   "execution_count": 16,
   "id": "1224ae73",
   "metadata": {},
   "outputs": [
    {
     "name": "stdout",
     "output_type": "stream",
     "text": [
      "8 9 11 28 3\n",
      "179.125 178.66666666666666 172.72727272727272 176.46428571428572\n"
     ]
    }
   ],
   "source": [
    "football_players = np.array([173, 175, 180, 178, 177, 185, 183, 182])\n",
    "hockey_players = np.array([177, 179, 180, 188, 177, 172, 171, 184, 180])\n",
    "lifters = np.array([172, 173, 169, 177, 166, 180, 178, 177, 172, 166, 170])\n",
    "k=3\n",
    "n_1, n_2, n_3, n_total = len(football_players), len(hockey_players), len(lifters),\\\n",
    "sum([len(football_players), len(hockey_players), len(lifters)])\n",
    "print(n_1, n_2, n_3, n_total, k)\n",
    "total_mean = sum([sum(football_players),sum(hockey_players),sum(lifters)])/n_total\n",
    "foot_mean, hock_mean , lift_mean  =football_players.mean(), hockey_players.mean(), lifters.mean()\n",
    "print(foot_mean, hock_mean , lift_mean,total_mean)\n",
    "S2 =\n",
    "S2F =\n",
    "S2res=\n",
    "print(S2==S2f+)"
   ]
  }
 ],
 "metadata": {
  "kernelspec": {
   "display_name": "Python 3 (ipykernel)",
   "language": "python",
   "name": "python3"
  },
  "language_info": {
   "codemirror_mode": {
    "name": "ipython",
    "version": 3
   },
   "file_extension": ".py",
   "mimetype": "text/x-python",
   "name": "python",
   "nbconvert_exporter": "python",
   "pygments_lexer": "ipython3",
   "version": "3.9.7"
  }
 },
 "nbformat": 4,
 "nbformat_minor": 5
}
