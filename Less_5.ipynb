{
 "cells": [
  {
   "cell_type": "code",
   "execution_count": 8,
   "id": "c7616d4f",
   "metadata": {},
   "outputs": [],
   "source": [
    "import numpy as np\n",
    "from math import sqrt\n",
    "from math import sqrt"
   ]
  },
  {
   "cell_type": "markdown",
   "id": "ad5de274",
   "metadata": {},
   "source": [
    "Известно, что генеральная совокупность распределена нормально\n",
    "со средним квадратическим отклонением, равным 16.\n",
    "Найти доверительный интервал для оценки математического ожидания a с надежностью 0.95,\n",
    "если выборочная средняя M = 80, а объем выборки n = 256."
   ]
  },
  {
   "cell_type": "code",
   "execution_count": 2,
   "id": "bfe13376",
   "metadata": {},
   "outputs": [],
   "source": [
    "n = 256\n",
    "M = 80\n",
    "σ = 16\n",
    "T = 1.96\n",
    "delta = σ/sqrt(n)"
   ]
  },
  {
   "cell_type": "code",
   "execution_count": 3,
   "id": "875ba6a1",
   "metadata": {},
   "outputs": [],
   "source": [
    "left_border, rigth_border = 80 - T * delta, 80 + T * delta"
   ]
  },
  {
   "cell_type": "code",
   "execution_count": 4,
   "id": "a266dbf7",
   "metadata": {},
   "outputs": [
    {
     "name": "stdout",
     "output_type": "stream",
     "text": [
      "Доверительный интервал лшежит в пределах от 78.04 до 81.96\n"
     ]
    }
   ],
   "source": [
    "print(f\"Доверительный интервал лшежит в пределах от {left_border} до {rigth_border}\")\n"
   ]
  },
  {
   "cell_type": "markdown",
   "id": "a355ce1e",
   "metadata": {},
   "source": [
    "В результате 10 независимых измерений некоторой величины X, выполненных с одинаковой точностью,\n",
    "получены опытные данные:\n",
    "6.9, 6.1, 6.2, 6.8, 7.5, 6.3, 6.4, 6.9, 6.7, 6.1\n",
    "Предполагая, что результаты измерений подчинены нормальному закону распределения вероятностей,\n",
    "оценить истинное значение величины X при помощи доверительного интервала, покрывающего это\n",
    "значение с доверительной вероятностью 0,95"
   ]
  },
  {
   "cell_type": "code",
   "execution_count": 12,
   "id": "16df7358",
   "metadata": {},
   "outputs": [
    {
     "name": "stdout",
     "output_type": "stream",
     "text": [
      "Величина Х будет лежать в пределах от 6.526262266878873 до 6.653737733121129 с вероятностью 95% \n"
     ]
    }
   ],
   "source": [
    "result_list = np.array([ 6.9, 6.1, 6.2, 6.8, 7.5, 6.3, 6.4, 6.9, 6.7, 6.1])\n",
    "x_mean = result_list.mean()\n",
    "x_std = result_list.std(ddof=1)\n",
    "T = 2.2622\n",
    "X_0 , X_1 = x_mean - T * (x_std / sqrt(n)),  x_mean + T * (x_std / sqrt(n))\n",
    "print(f\"Величина Х будет лежать в пределах от {X_0} до {X_1} с вероятностью 95% \")"
   ]
  },
  {
   "cell_type": "markdown",
   "id": "bd9e297e",
   "metadata": {},
   "source": [
    "Утверждается, что шарики для подшипников, изготовленные автоматическим станком, имеют средний диаметр 17 мм.\n",
    "Используя односторонний критерий с α=0,05, проверить эту гипотезу, если в выборке из n=100 шариков средний диаметр\n",
    "оказался равным 17.5 мм, а дисперсия известна и равна 4 мм."
   ]
  },
  {
   "cell_type": "code",
   "execution_count": 15,
   "id": "b2a4d519",
   "metadata": {},
   "outputs": [
    {
     "name": "stdout",
     "output_type": "stream",
     "text": [
      "Гипотеза неверна, величина входит в критичесткую область\n"
     ]
    }
   ],
   "source": [
    "n  = 100\n",
    "mean_val = 170\n",
    "mean_test = 175\n",
    "T = 1.96\n",
    "test_std = 2\n",
    "σ = T * (test_std/sqrt(n))\n",
    "if mean_val + σ >= mean_test:\n",
    "    print(\"Гипотеза верна, величина входит в доверительный интервал\")\n",
    "else:\n",
    "    print(\"Гипотеза неверна, величина входит в критичесткую область\")"
   ]
  },
  {
   "cell_type": "markdown",
   "id": "8d715eb4",
   "metadata": {},
   "source": [
    "Продавец утверждает, что средний вес пачки печенья составляет 200 г.\n",
    "Из партии извлечена выборка из 10 пачек. Вес каждой пачки составляет:\n",
    "202, 203, 199, 197, 195, 201, 200, 204, 194, 190.\n",
    "Известно, что их веса распределены нормально.\n",
    "Верно ли утверждение продавца, если учитывать, что доверительная вероятность равна 99%?"
   ]
  },
  {
   "cell_type": "code",
   "execution_count": 19,
   "id": "b1624b1e",
   "metadata": {},
   "outputs": [
    {
     "name": "stdout",
     "output_type": "stream",
     "text": [
      "Гипотеза верна\n"
     ]
    }
   ],
   "source": [
    "selected_data = np.array([202, 203, 199, 197, 195, 201, 200, 204, 194, 190])\n",
    "test_mean = 200\n",
    "T = 3.2498\n",
    "σ = T*(selected_data.std(ddof=1)/sqrt(len(selected_data)))\n",
    "if test_mean < selected_data.mean() - σ or  test_mean > selected_data.mean() + σ:\n",
    "    print('Гипотеза не верна , значение вышло за доверительный интервал')\n",
    "else:\n",
    "    print('Гипотеза верна')"
   ]
  }
 ],
 "metadata": {
  "kernelspec": {
   "display_name": "Python 3 (ipykernel)",
   "language": "python",
   "name": "python3"
  },
  "language_info": {
   "codemirror_mode": {
    "name": "ipython",
    "version": 3
   },
   "file_extension": ".py",
   "mimetype": "text/x-python",
   "name": "python",
   "nbconvert_exporter": "python",
   "pygments_lexer": "ipython3",
   "version": "3.9.7"
  }
 },
 "nbformat": 4,
 "nbformat_minor": 5
}
