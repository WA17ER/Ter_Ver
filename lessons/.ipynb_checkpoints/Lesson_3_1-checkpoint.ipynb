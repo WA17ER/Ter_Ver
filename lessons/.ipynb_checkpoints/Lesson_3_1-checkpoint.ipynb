{
 "cells": [
  {
   "cell_type": "markdown",
   "id": "fe5e8f08",
   "metadata": {},
   "source": [
    "# Даны значения зарплат из выборки выпускников: 100, 80, 75, 77, 89, 33, 45, 25, 65, 17, 30, 24, 57, 55, 70, 75, 65,\n",
    "# 84, 90, 150. Посчитать (желательно без использования статистических методов наподобие std, var, mean) среднее\n",
    "# арифметическое, среднее квадратичное отклонение, смещенную и несмещенную оценки дисперсий для данной выборки.\n",
    "# Сделать графическую интерпретацию данных, проанализовать выбросы, посчитать квартили и интерквартильное расстояние\n"
   ]
  },
  {
   "cell_type": "code",
   "execution_count": 39,
   "id": "77ce11ac",
   "metadata": {},
   "outputs": [
    {
     "name": "stdout",
     "output_type": "stream",
     "text": [
      "Среднее значение равно65.3\n",
      "\n",
      "Средне квадратичное отклонение (30.823854398825596, 30.823854398825596)\n",
      "\n",
      "Смещённая оценка дисперсии 950.11\n",
      "\n",
      "Несмещённая оценка дисперсии 1000.1157894736842\n",
      "\n",
      "Первыйй квантиль  42.0 воторой квантиль 67.5, третий 81.0\n",
      "\n"
     ]
    },
    {
     "data": {
      "image/png": "[encoded data removed]",
      "text/plain": [
       "<Figure size 432x288 with 1 Axes>"
      ]
     },
     "metadata": {
      "needs_background": "light"
     },
     "output_type": "display_data"
    },
    {
     "data": {
      "image/png": "[encoded data removed]",
      "text/plain": [
       "<Figure size 432x288 with 1 Axes>"
      ]
     },
     "metadata": {
      "needs_background": "light"
     },
     "output_type": "display_data"
    }
   ],
   "source": [
    "import matplotlib.pyplot  as plt\n",
    "import numpy as np\n",
    "from math import sqrt\n",
    "\n",
    "\n",
    "data = [100, 80, 75, 77, 89, 33, 45, 25, 65, 17, 30, 24, 57, 55, 70, 75, 65, 84, 90, 150]\n",
    "np_data = np.array(data)\n",
    "mean_data = sum(data) / len(data)\n",
    "data_np_std = np.array(data).std()\n",
    "data_std = sqrt(sum([(el - mean_data) **2 for el in data])/len(data))\n",
    "data_dispersion = data_std**2\n",
    "data_unbiased = sum([(el - mean_data) **2 for el in data])/(len(data) - 1)\n",
    "\n",
    "\n",
    "print(f\"Среднее значение равно{mean_data}\\n\")\n",
    "print(f\"Средне квадратичное отклонение {data_std, data_np_std}\\n\")\n",
    "print(f\"Смещённая оценка дисперсии {data_dispersion}\\n\")\n",
    "print(f\"Несмещённая оценка дисперсии {data_unbiased}\\n\")\n",
    "print(f'Первыйй квантиль  {np.quantile(np_data, 0.25)} воторой квантиль {np.quantile(np_data, 0.5)}, третий {np.quantile(np_data, 0.75)}\\n')\n",
    "\n",
    "\n",
    "\n",
    "plt.hist(data, bins=20)\n",
    "plt.show()\n",
    "plt.boxplot(np_data)\n",
    "plt.show() "
   ]
  },
  {
   "cell_type": "markdown",
   "id": "839436fa",
   "metadata": {},
   "source": [
    "# Вбросами будут являться чила меньше 17 или больше 100 Точкой отмечено значение 150. Жёлтая линия это медиана, Интерквартильное расстояние равно 39\n",
    "\n"
   ]
  },
  {
   "cell_type": "markdown",
   "id": "b26be13e",
   "metadata": {},
   "source": [
    "Формула на 1,5 интерквартильных размаха не работает для отображения  Видимо из за того что минимальное значение в списке больше чем нижняя граница для вбросов к4оторая была бы равна q1 - 1.5(q3-q1) что было бы равно 42 - 1,5(81-42) =-16,5 , верхнее же значение было бы 140,5"
   ]
  }
 ],
 "metadata": {
  "kernelspec": {
   "display_name": "Python 3 (ipykernel)",
   "language": "python",
   "name": "python3"
  },
  "language_info": {
   "codemirror_mode": {
    "name": "ipython",
    "version": 3
   },
   "file_extension": ".py",
   "mimetype": "text/x-python",
   "name": "python",
   "nbconvert_exporter": "python",
   "pygments_lexer": "ipython3",
   "version": "3.9.7"
  }
 },
 "nbformat": 4,
 "nbformat_minor": 5
}
